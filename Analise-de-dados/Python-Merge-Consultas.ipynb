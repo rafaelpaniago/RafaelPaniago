# Neste código quero trabalhar com quatro tabelas diferentes
# As tabelas são: CLIENTES / VENDEDORES / PRODUTOS / VENDAS

# A ideia aqui é fazer um merge entre todas as tabelas e em seguida extrair informações fáceis de entender.
# Isso porque a tabela VENDAS é a principal do nosso caso. Porém, ela só contem IDS. 
# Se a gente olhar simplesmente essa tabela, fica difícil extrair alguma informação valiosa.
